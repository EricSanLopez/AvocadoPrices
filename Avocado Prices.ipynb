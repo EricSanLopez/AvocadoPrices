{
 "cells": [
  {
   "cell_type": "markdown",
   "id": "1dd3dcfa",
   "metadata": {},
   "source": [
    "# Avocado Prices Dataset"
   ]
  },
  {
   "cell_type": "code",
   "execution_count": null,
   "id": "4762594f",
   "metadata": {},
   "outputs": [],
   "source": [
    "Prova de commit"
   ]
  }
 ],
 "metadata": {
  "kernelspec": {
   "display_name": "Python 3 (ipykernel)",
   "language": "python",
   "name": "python3"
  },
  "language_info": {
   "codemirror_mode": {
    "name": "ipython",
    "version": 3
   },
   "file_extension": ".py",
   "mimetype": "text/x-python",
   "name": "python",
   "nbconvert_exporter": "python",
   "pygments_lexer": "ipython3",
   "version": "3.9.7"
  }
 },
 "nbformat": 4,
 "nbformat_minor": 5
}
